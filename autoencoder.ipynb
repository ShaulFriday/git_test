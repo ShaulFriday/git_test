{
 "cells": [
  {
   "cell_type": "code",
   "execution_count": 1,
   "metadata": {},
   "outputs": [],
   "source": [
    "import os\n",
    "import torch\n",
    "from torch.autograd import Variable\n",
    "from torch import nn\n",
    "from torch.utils.data import DataLoader\n",
    "\n",
    "from torchvision.datasets import MNIST\n",
    "from torchvision import transforms as tfs\n",
    "from torchvision.utils import save_image"
   ]
  },
  {
   "cell_type": "code",
   "execution_count": 3,
   "metadata": {},
   "outputs": [
    {
     "name": "stdout",
     "output_type": "stream",
     "text": [
      "Downloading http://yann.lecun.com/exdb/mnist/train-images-idx3-ubyte.gz\n",
      "Downloading http://yann.lecun.com/exdb/mnist/train-labels-idx1-ubyte.gz\n",
      "Downloading http://yann.lecun.com/exdb/mnist/t10k-images-idx3-ubyte.gz\n",
      "Downloading http://yann.lecun.com/exdb/mnist/t10k-labels-idx1-ubyte.gz\n",
      "Processing...\n",
      "Done!\n"
     ]
    }
   ],
   "source": [
    "im_tfs=tfs.Compose([\n",
    "    tfs.ToTensor(),\n",
    "    tfs.Normalize([0.5,0.5,0.5],[0.5,0.5,0.5])\n",
    "])\n",
    "\n",
    "train_set=MNIST('./mnist',transform=im_tfs,download=True)\n",
    "train_data=DataLoader(train_set,batch_size=128,shuffle=True)"
   ]
  },
  {
   "cell_type": "code",
   "execution_count": 4,
   "metadata": {},
   "outputs": [],
   "source": [
    "class autoencoder(nn.Module):\n",
    "    def __init__(self):\n",
    "        super(autoencoder,self).__init__()\n",
    "        \n",
    "        self.encoder=nn.Sequential(\n",
    "            nn.Linear(28*28,128),\n",
    "            nn.ReLU(True),\n",
    "            nn.Linear(128,64),\n",
    "            nn.ReLU(True),\n",
    "            nn.Linear(64,12),\n",
    "            nn.ReLU(True),\n",
    "            nn.Linear(12,3),\n",
    "        )\n",
    "        \n",
    "        self.decoder=nn.Sequential(\n",
    "            nn.Linear(3,12),\n",
    "            nn.ReLU(True),\n",
    "            nn.Linear(12,64),\n",
    "            nn.ReLU(True),\n",
    "            nn.Linear(64,128),\n",
    "            nn.ReLU(True),\n",
    "            nn.Linear(128,28*28),\n",
    "            nn.Tanh()\n",
    "        )\n",
    "    def forward(self,x):\n",
    "        encode=self.encoder(x)\n",
    "        decode=self.decoder(encode)\n",
    "        return encode,decode"
   ]
  },
  {
   "cell_type": "code",
   "execution_count": 5,
   "metadata": {},
   "outputs": [
    {
     "name": "stdout",
     "output_type": "stream",
     "text": [
      "torch.Size([1, 3])\n"
     ]
    }
   ],
   "source": [
    "net=autoencoder()\n",
    "x=Variable(torch.randn(1,28*28))\n",
    "code,_=net(x)\n",
    "print(code.shape)"
   ]
  },
  {
   "cell_type": "code",
   "execution_count": 6,
   "metadata": {},
   "outputs": [
    {
     "name": "stderr",
     "output_type": "stream",
     "text": [
      "D:\\Anaconda3\\lib\\site-packages\\torch\\nn\\_reduction.py:49: UserWarning: size_average and reduce args will be deprecated, please use reduction='sum' instead.\n",
      "  warnings.warn(warning.format(ret))\n"
     ]
    }
   ],
   "source": [
    "criterion=nn.MSELoss(size_average=False)\n",
    "optimizer=torch.optim.Adam(net.parameters(),lr=1e-3)\n",
    "\n",
    "def to_img(x):\n",
    "    x=0.5*(x+1.)\n",
    "    x=x.clamp(0,1)\n",
    "    x=x.view(x.shape[0],1,28,28)\n",
    "    return x"
   ]
  },
  {
   "cell_type": "code",
   "execution_count": null,
   "metadata": {},
   "outputs": [
    {
     "name": "stdout",
     "output_type": "stream",
     "text": [
      "20 tensor(94.4271)\n",
      "40 tensor(96.6156)\n",
      "60 tensor(98.2562)\n",
      "80 tensor(104.6222)\n"
     ]
    }
   ],
   "source": [
    "for e in range(100):\n",
    "    for im,_ in train_data:\n",
    "        im=im.view(im.shape[0],-1)\n",
    "        im=Variable(im)\n",
    "        _,output=net(im)\n",
    "        loss=criterion(output,im)/im.shape[0]\n",
    "        optimizer.zero_grad()\n",
    "        loss.backward()\n",
    "        optimizer.step()\n",
    "        \n",
    "    if(e+1)%20==0:\n",
    "        print(e+1,loss.data)\n",
    "        pic=to_img(output.cpu().data)\n",
    "        if not os.path.exists('./simple_autoencoder'):\n",
    "            os.mkdir('./simple_autoencoder')\n",
    "        save_image(pic,'./simple_autoencoder/image_{}.png'.format(e + 1))"
   ]
  },
  {
   "cell_type": "code",
   "execution_count": null,
   "metadata": {},
   "outputs": [],
   "source": []
  }
 ],
 "metadata": {
  "kernelspec": {
   "display_name": "Python 3",
   "language": "python",
   "name": "python3"
  },
  "language_info": {
   "codemirror_mode": {
    "name": "ipython",
    "version": 3
   },
   "file_extension": ".py",
   "mimetype": "text/x-python",
   "name": "python",
   "nbconvert_exporter": "python",
   "pygments_lexer": "ipython3",
   "version": "3.7.0"
  }
 },
 "nbformat": 4,
 "nbformat_minor": 2
}
